{
 "cells": [
  {
   "cell_type": "code",
   "execution_count": 1,
   "metadata": {},
   "outputs": [],
   "source": [
    "import numpy as np\n",
    "import matplotlib.pyplot as plt\n",
    "import time\n",
    "import platform\n",
    "import torch\n",
    "import torch.nn as nn\n",
    "import torch.nn.functional as F\n",
    "import torchvision.transforms as transforms\n",
    "from torch.utils.data import DataLoader\n",
    "from torchvision.datasets import MNIST\n",
    "import matplotlib.pyplot as plt"
   ]
  },
  {
   "cell_type": "code",
   "execution_count": 2,
   "metadata": {},
   "outputs": [
    {
     "name": "stdout",
     "output_type": "stream",
     "text": [
      "Pytorch version: 2.4.1\n",
      "cuda version: None\n",
      "Python version: 3.10.14\n"
     ]
    }
   ],
   "source": [
    "print(f'Pytorch version: {torch.__version__}')\n",
    "print(f'cuda version: {torch.version.cuda}')\n",
    "print(f'Python version: {platform.python_version()}')"
   ]
  },
  {
   "cell_type": "code",
   "execution_count": 3,
   "metadata": {},
   "outputs": [
    {
     "data": {
      "text/plain": [
       "device(type='cpu')"
      ]
     },
     "execution_count": 3,
     "metadata": {},
     "output_type": "execute_result"
    }
   ],
   "source": [
    "# Device will determine whether to run the training on GPU or CPU.\n",
    "device = torch.device('cuda' if torch.cuda.is_available() else 'cpu')\n",
    "device"
   ]
  },
  {
   "cell_type": "markdown",
   "metadata": {},
   "source": [
    "## Load data and normalize\n",
    "\n",
    "### Normalization\n"
   ]
  },
  {
   "cell_type": "code",
   "execution_count": 4,
   "metadata": {},
   "outputs": [],
   "source": [
    "transform = transforms.Compose([transforms.ToTensor(), transforms.Normalize((0.5,), (0.5,))])"
   ]
  },
  {
   "cell_type": "markdown",
   "metadata": {},
   "source": [
    "Normalization adjusts the values of the image tensors using the following formula:\n",
    "\n",
    " $X_{normalized}$ = $\\frac{X - \\mu}{\\sigma}$\n",
    "\n",
    "\n",
    "where:\n",
    "\n",
    "- X is the value of each pixel in the image.\n",
    "- is the mean of the pixel values, which in this case is 0.5.\n",
    "- σ is the standard deviation, also 0.5 in this case.\n",
    "\n",
    "shifts the values to the range [-1, 1]."
   ]
  },
  {
   "cell_type": "markdown",
   "metadata": {},
   "source": [
    "### Data splitting and more"
   ]
  },
  {
   "cell_type": "code",
   "execution_count": 5,
   "metadata": {},
   "outputs": [
    {
     "name": "stdout",
     "output_type": "stream",
     "text": [
      "Downloading http://yann.lecun.com/exdb/mnist/train-images-idx3-ubyte.gz\n",
      "Failed to download (trying next):\n",
      "HTTP Error 403: Forbidden\n",
      "\n",
      "Downloading https://ossci-datasets.s3.amazonaws.com/mnist/train-images-idx3-ubyte.gz\n",
      "Downloading https://ossci-datasets.s3.amazonaws.com/mnist/train-images-idx3-ubyte.gz to ./data/MNIST/raw/train-images-idx3-ubyte.gz\n"
     ]
    },
    {
     "name": "stderr",
     "output_type": "stream",
     "text": [
      "100%|██████████| 9912422/9912422 [00:10<00:00, 953785.02it/s] \n"
     ]
    },
    {
     "name": "stdout",
     "output_type": "stream",
     "text": [
      "Extracting ./data/MNIST/raw/train-images-idx3-ubyte.gz to ./data/MNIST/raw\n",
      "\n",
      "Downloading http://yann.lecun.com/exdb/mnist/train-labels-idx1-ubyte.gz\n",
      "Failed to download (trying next):\n",
      "HTTP Error 403: Forbidden\n",
      "\n",
      "Downloading https://ossci-datasets.s3.amazonaws.com/mnist/train-labels-idx1-ubyte.gz\n",
      "Downloading https://ossci-datasets.s3.amazonaws.com/mnist/train-labels-idx1-ubyte.gz to ./data/MNIST/raw/train-labels-idx1-ubyte.gz\n"
     ]
    },
    {
     "name": "stderr",
     "output_type": "stream",
     "text": [
      "100%|██████████| 28881/28881 [00:00<00:00, 351533.68it/s]\n"
     ]
    },
    {
     "name": "stdout",
     "output_type": "stream",
     "text": [
      "Extracting ./data/MNIST/raw/train-labels-idx1-ubyte.gz to ./data/MNIST/raw\n",
      "\n",
      "Downloading http://yann.lecun.com/exdb/mnist/t10k-images-idx3-ubyte.gz\n",
      "Failed to download (trying next):\n",
      "HTTP Error 403: Forbidden\n",
      "\n",
      "Downloading https://ossci-datasets.s3.amazonaws.com/mnist/t10k-images-idx3-ubyte.gz\n",
      "Downloading https://ossci-datasets.s3.amazonaws.com/mnist/t10k-images-idx3-ubyte.gz to ./data/MNIST/raw/t10k-images-idx3-ubyte.gz\n"
     ]
    },
    {
     "name": "stderr",
     "output_type": "stream",
     "text": [
      "100%|██████████| 1648877/1648877 [00:00<00:00, 2936431.13it/s]\n"
     ]
    },
    {
     "name": "stdout",
     "output_type": "stream",
     "text": [
      "Extracting ./data/MNIST/raw/t10k-images-idx3-ubyte.gz to ./data/MNIST/raw\n",
      "\n",
      "Downloading http://yann.lecun.com/exdb/mnist/t10k-labels-idx1-ubyte.gz\n",
      "Failed to download (trying next):\n",
      "HTTP Error 403: Forbidden\n",
      "\n",
      "Downloading https://ossci-datasets.s3.amazonaws.com/mnist/t10k-labels-idx1-ubyte.gz\n",
      "Downloading https://ossci-datasets.s3.amazonaws.com/mnist/t10k-labels-idx1-ubyte.gz to ./data/MNIST/raw/t10k-labels-idx1-ubyte.gz\n"
     ]
    },
    {
     "name": "stderr",
     "output_type": "stream",
     "text": [
      "100%|██████████| 4542/4542 [00:00<00:00, 980722.20it/s]"
     ]
    },
    {
     "name": "stdout",
     "output_type": "stream",
     "text": [
      "Extracting ./data/MNIST/raw/t10k-labels-idx1-ubyte.gz to ./data/MNIST/raw\n",
      "\n"
     ]
    },
    {
     "name": "stderr",
     "output_type": "stream",
     "text": [
      "\n"
     ]
    }
   ],
   "source": [
    "train_dataset = MNIST(root='./data', train=True, transform=transform, download=True)\n",
    "test_dataset = MNIST(root='./data', train=False, transform=transform, download=True)\n",
    "\n",
    "train_loader = DataLoader(train_dataset, batch_size=64, shuffle=True)\n",
    "test_loader = DataLoader(test_dataset, batch_size=64, shuffle=False)"
   ]
  },
  {
   "cell_type": "code",
   "execution_count": 6,
   "metadata": {},
   "outputs": [
    {
     "name": "stdout",
     "output_type": "stream",
     "text": [
      "Training size: 60000\n",
      "Test size: 10000\n"
     ]
    }
   ],
   "source": [
    "print(\"Training size:\", len(train_dataset))\n",
    "print(\"Test size:\", len(test_dataset))"
   ]
  },
  {
   "cell_type": "code",
   "execution_count": 7,
   "metadata": {},
   "outputs": [],
   "source": [
    "dataiter = iter(train_loader)\n",
    "images, labels = next(dataiter)"
   ]
  },
  {
   "cell_type": "code",
   "execution_count": 8,
   "metadata": {},
   "outputs": [
    {
     "data": {
      "image/png": "[encoded data removed]",
      "text/plain": [
       "<Figure size 640x480 with 1 Axes>"
      ]
     },
     "metadata": {},
     "output_type": "display_data"
    }
   ],
   "source": [
    "plt.imshow(images[0].numpy().squeeze(), cmap='gray_r')\n",
    "plt.title(f\"Label: {labels[0].item()}\")\n",
    "plt.show()"
   ]
  },
  {
   "cell_type": "code",
   "execution_count": 9,
   "metadata": {},
   "outputs": [
    {
     "data": {
      "text/plain": [
       "torch.Size([1, 28, 28])"
      ]
     },
     "execution_count": 9,
     "metadata": {},
     "output_type": "execute_result"
    }
   ],
   "source": [
    "images[0].shape"
   ]
  },
  {
   "cell_type": "code",
   "execution_count": 10,
   "metadata": {},
   "outputs": [
    {
     "data": {
      "text/plain": [
       "tensor([-1.0000, -0.9922, -0.9686, -0.9451, -0.9373, -0.9294, -0.9216, -0.9137,\n",
       "        -0.8980, -0.8745, -0.8510, -0.7647, -0.7333, -0.7255, -0.6941, -0.6627,\n",
       "        -0.6078, -0.5686, -0.5373, -0.5294, -0.5137, -0.5059, -0.4667, -0.4510,\n",
       "        -0.3961, -0.3804, -0.3725, -0.3255, -0.2627, -0.2157, -0.1765, -0.1216,\n",
       "        -0.0667,  0.0275,  0.0745,  0.0902,  0.1529,  0.2471,  0.2549,  0.2784,\n",
       "         0.3255,  0.3333,  0.3412,  0.3490,  0.3569,  0.4196,  0.5059,  0.5451,\n",
       "         0.5608,  0.6314,  0.6627,  0.7725,  0.8118,  0.8510,  0.8588,  0.8667,\n",
       "         0.8745,  0.8824,  0.8980,  0.9059,  0.9137,  0.9294,  0.9373,  0.9451,\n",
       "         0.9922,  1.0000])"
      ]
     },
     "execution_count": 10,
     "metadata": {},
     "output_type": "execute_result"
    }
   ],
   "source": [
    "images[0].unique()"
   ]
  },
  {
   "cell_type": "markdown",
   "metadata": {},
   "source": [
    "# $LeNet$-$5$ <span style=\"color:MediumSeaGreen\">_Architecture_</span>\n"
   ]
  },
  {
   "cell_type": "markdown",
   "metadata": {},
   "source": [
    "<img title=\"a title\" alt=\"Alt text\" src=\"images/architecture_LeNet-5.png\">\n",
    "\n",
    "\n",
    "LeNet-5 consists of seven layers (not counting input) with three main types of layers: convolutional layers, subsampling (pooling) layers, and fully connected layers. The model takes a 32x32 grayscale input image and produces an output with 10 classes, corresponding to the digits 0 through 9. Here’s the sequential breakdown of each layer:\n",
    "\n",
    "\n",
    "\n",
    "### <span style=\"color:DodgerBlue\">1. Input layer</span>\n",
    "The input is a 32x32 pixel image, but in the MNIST data the images are 28x28. We need to resize the images using the normalization shown before and store it as a tensor.\n",
    "\n",
    "### <span style=\"color:DodgerBlue\">2. C1: First Convolutional Layer</span>\n",
    "\n",
    "This layer performs convolution using 6 filters of size 5x5 across the input image, producing six 28x28 feature maps. Each filter extracts different local features like edges and corners.\n",
    "\n",
    "- **Feature Maps:** 6\n",
    "\n",
    "- **Connections:** Each unit is fully connected to C5\n",
    "- **Stride:** 1 \n",
    "- **Padding:** None (the layer is a \"valid\" convolution, reducing the image size)\n",
    "- **Output Size:** 28 x 28 x 6 (since the input is 32x32 and applying a 5x5 filter reduces each dimension by 4, yielding 28x28)\n",
    "- **Activation:** Sigmoid (in the original architecture, in modern implementations often use ReLU)\n",
    "- **Trainable parameters:** 156 (weight + bias = 5 x 5 x 1 x 6 + 6)\n",
    "- **Connections:** 122,304 (28 x 28 x 156)\n",
    "\n",
    "\n",
    "### <span style=\"color:DodgerBlue\">3. S2: First Subsampling (Pooling) Layer</span>\n",
    "\n",
    "This layer reduces the spatial dimensions of each of the 6 feature maps from 28x28 to 14x14 using 2x2 average pooling. Pooling helps reduce the computational load, extract dominant features, and introduces some degree of translation invariance.\n",
    "\n",
    "- **Feature Maps:** 6\n",
    "\n",
    "- **Filter Size:** 2 x 2\n",
    "- **Padding:** 0\n",
    "- **Stride:** 2\n",
    "- **Output Size:** 14 x 14 x 6\n",
    "- **Activation:** None. Performs subsampling directly on the input.\n",
    "- **Trainable parameters:** 12 ((coefficient + bias) x filters = (1 + 1) x 6)\n",
    "- **Conections:** 5,880 (14 x 14 x 30)\n",
    "\n",
    "\n",
    "### <span style=\"color:DodgerBlue\">4. C3: Second Convolutional Layer</span>\n",
    "\n",
    "This layer applies 16 filters of size 5x5. Each of these filters is connected to all six feature maps from the previous layer in a complex connectivity pattern (Table I shows the set of S2 feature maps). This design choice was meant to increase the variety of patterns learned by the network.\n",
    "\n",
    "<img title=\"a title\" alt=\"Alt text\" src=\"images/S2.png\" width=600>\n",
    "\n",
    "- **Feature Maps:** 16\n",
    "\n",
    "- **Filter Size:** 5 x 5\n",
    "- **Padding:** 0\n",
    "- **Stride:** 1\n",
    "- **Output Size:** 10 x 10 x 16\n",
    "- **Activation:** Sigmoid\n",
    "- **Trainable parameters:** 1,516 (weight + bias = (5 x 5 x 6 x 10) + 16)\n",
    "- **Conections:** 151,600 (10 x 10 x 1516)\n",
    "\n",
    "\n",
    "### <span style=\"color:DodgerBlue\">5. S4: Second Subsampling (Pooling) Layer</span>\n",
    "\n",
    "Similar to S2, this layer reduces the spatial dimensions of the 16 feature maps from 10x10 to 5x5 using 2x2 average pooling.\n",
    "\n",
    "- **Feature Maps:** 16\n",
    "\n",
    "- **Filter Size:** 2 x 2\n",
    "- **Padding:** 0\n",
    "- **Stride:** 2\n",
    "- **Output Size:** 5 x 5 x 16\n",
    "- **Activation:** None\n",
    "- **Trainable parameters:** 12 ((coefficient + bias) x filters = (1 + 1) x 16)\n",
    "- **Conections:** 2,000 (5 x 5 x 80)\n",
    "\n",
    "\n",
    "### <span style=\"color:DodgerBlue\">6. C5: Third Convolutional Layer (Fully Connected Convolutional Layer)</span>\n",
    "\n",
    "This layer is technically a convolutional layer but functions as a fully connected layer since the filter size matches the input dimension (5x5). The 120 filters create a single output for each, resulting in a 1x1x120 output.\n",
    "\n",
    "- **Feature Maps:** 120\n",
    "\n",
    "- **Filter Size:** 5 x 5\n",
    "- **Padding:** 0\n",
    "- **Stride:** 1\n",
    "- **Output Size:** 1 x 1 x 120 (since the input is 5x5, applying a 5x5 filter results in a 1x1 output)\n",
    "- **Activation:** Sigmoid\n",
    "- **Trainable parameters:** 48,120 (weight + bias = (400 x 120) + 120)\n",
    "- **Conections:** 48,120\n",
    "\n",
    "### <span style=\"color:DodgerBlue\">7. F6: Fully Connected Layer</span>\n",
    "\n",
    "his layer has 84 neurons, each fully connected to the 120-element input vector. This part of the network is similar to a traditional multi-layer perceptron, serving to combine the extracted features from previous layers to make predictions.\n",
    "\n",
    "- **Units:** 84\n",
    "\n",
    "- **Output Size:** 1 x 1 x 120 (since the input is 5x5, applying a 5x5 filter results in a 1x1 output)\n",
    "- **Activation:** Uses a scaled hyperbolic tangent function $f(a) = A \n",
    "*tanh(Sa)$\n",
    "- **Trainable parameters:** 10,164 (weight + bias = (120 x 84) + 84)\n",
    "- **Conections:** 10,164\n",
    "\n",
    "\n",
    "### <span style=\"color:DodgerBlue\">8. Output Layer</span>\n",
    "\n",
    "he final layer has 10 neurons, each corresponding to one of the digit classes (0-9). This layer produces the network's output, a probability distribution over the 10 classes, using the softmax function.\n",
    "\n",
    " **Units:** 10\n",
    "\n",
    "- **Output Size:** 1 x 1 x 120 (since the input is 5x5, applying a 5x5 filter results in a 1x1 output)\n",
    "- **Activation:**  Euclidean Radial Basis Function units (RBF)\n",
    "\n",
    "Each RBF unit $y_i$ is computed as follow: \n",
    "\n",
    "$y_i = \\sum_{j} (x_j - w_{ij})^2$  \n",
    "\n",
    "Modern versions use Softmax\n"
   ]
  },
  {
   "cell_type": "code",
   "execution_count": 11,
   "metadata": {},
   "outputs": [],
   "source": [
    "# LeNet-5 (original architecture)\n",
    "class LeNet5(nn.Module):\n",
    "    def __init__(self):\n",
    "        super(LeNet5, self).__init__()\n",
    "        self.conv1 = nn.Conv2d(1, 6, kernel_size=5)\n",
    "        self.conv2 = nn.Conv2d(6, 16, kernel_size=5)\n",
    "\n",
    "        self.fc1 = nn.Linear(16*4*4, 120)\n",
    "        self.fc2 = nn.Linear(120, 84)\n",
    "        self.fc3 = nn.Linear(84, 10)\n",
    "    \n",
    "    def forward(self, x):\n",
    "        x = torch.relu(self.conv1(x))\n",
    "        x = torch.max_pool2d(x, 2)\n",
    "        x = torch.relu(self.conv2(x))\n",
    "        x = torch.max_pool2d(x, 2)\n",
    "        \n",
    "        x = x.view(-1, 16*4*4)\n",
    "        x = torch.relu(self.fc1(x))\n",
    "        x = torch.relu(self.fc2(x))\n",
    "        x = self.fc3(x)\n",
    "        return x\n",
    "    \n",
    "\n",
    "# Architecture 2: LeNet-5 with one convolutional layer removed\n",
    "class LeNet5_OneConv(nn.Module):\n",
    "    def __init__(self):\n",
    "        super(LeNet5_OneConv, self).__init__()\n",
    "        self.conv1 = nn.Conv2d(1, 6, kernel_size=5)\n",
    "\n",
    "        self.fc1 = nn.Linear(6*12*12, 120)\n",
    "        self.fc2 = nn.Linear(120, 84)\n",
    "        self.fc3 = nn.Linear(84, 10)\n",
    "    \n",
    "    def forward(self, x):\n",
    "        x = torch.relu(self.conv1(x))\n",
    "        x = torch.max_pool2d(x, 2)\n",
    "        x = x.view(-1, 6*12*12)\n",
    "        x = torch.relu(self.fc1(x))\n",
    "        x = torch.relu(self.fc2(x))\n",
    "        x = self.fc3(x)\n",
    "        return x\n",
    "    \n",
    "\n",
    "# Architecture 3: LeNet-5 with an additional convolutional layer\n",
    "class LeNet5_ExtraConv(nn.Module):\n",
    "    def __init__(self):\n",
    "        super(LeNet5_ExtraConv, self).__init__()\n",
    "        self.conv1 = nn.Conv2d(1, 6, kernel_size=5)\n",
    "        self.conv2 = nn.Conv2d(6, 16, kernel_size=5)\n",
    "        self.conv3 = nn.Conv2d(16, 32, kernel_size=3)\n",
    "        \n",
    "        # Update the input size for the first fully connected layer\n",
    "        self.fc1 = nn.Linear(32*1*1, 120)  # Adjust size based on the output of conv3\n",
    "        self.fc2 = nn.Linear(120, 84)\n",
    "        self.fc3 = nn.Linear(84, 10)\n",
    "    \n",
    "    def forward(self, x):\n",
    "        x = torch.relu(self.conv1(x))\n",
    "        x = torch.max_pool2d(x, 2)\n",
    "        x = torch.relu(self.conv2(x))\n",
    "        x = torch.max_pool2d(x, 2)\n",
    "        x = torch.relu(self.conv3(x))\n",
    "        x = torch.max_pool2d(x, 2)\n",
    "        \n",
    "        # Ensure the output is flattened correctly for the linear layers\n",
    "        x = x.view(-1, 32*1*1)  # Adjust this size based on the output of the conv layers\n",
    "        x = torch.relu(self.fc1(x))\n",
    "        x = torch.relu(self.fc2(x))\n",
    "        x = self.fc3(x)\n",
    "        return x"
   ]
  },
  {
   "cell_type": "code",
   "execution_count": 12,
   "metadata": {},
   "outputs": [
    {
     "name": "stdout",
     "output_type": "stream",
     "text": [
      "LeNet-5\n",
      "Epoch [1/10], Train Loss: 0.2520, Train Accuracy: 92.23%, Test Loss: 0.0653, Test Accuracy: 97.85%\n",
      "Epoch [2/10], Train Loss: 0.0702, Train Accuracy: 97.87%, Test Loss: 0.0459, Test Accuracy: 98.44%\n",
      "Epoch [3/10], Train Loss: 0.0495, Train Accuracy: 98.47%, Test Loss: 0.0520, Test Accuracy: 98.36%\n",
      "Epoch [4/10], Train Loss: 0.0382, Train Accuracy: 98.75%, Test Loss: 0.0400, Test Accuracy: 98.73%\n",
      "Epoch [5/10], Train Loss: 0.0325, Train Accuracy: 98.98%, Test Loss: 0.0348, Test Accuracy: 98.70%\n",
      "Epoch [6/10], Train Loss: 0.0275, Train Accuracy: 99.13%, Test Loss: 0.0331, Test Accuracy: 98.93%\n",
      "Epoch [7/10], Train Loss: 0.0242, Train Accuracy: 99.23%, Test Loss: 0.0370, Test Accuracy: 98.72%\n",
      "Epoch [8/10], Train Loss: 0.0207, Train Accuracy: 99.33%, Test Loss: 0.0298, Test Accuracy: 99.03%\n",
      "Epoch [9/10], Train Loss: 0.0194, Train Accuracy: 99.38%, Test Loss: 0.0337, Test Accuracy: 98.92%\n",
      "Epoch [10/10], Train Loss: 0.0170, Train Accuracy: 99.46%, Test Loss: 0.0361, Test Accuracy: 98.89%\n",
      "\n",
      "LeNet-5 with one convolutional layer removed\n",
      "Epoch [1/10], Train Loss: 0.2280, Train Accuracy: 93.33%, Test Loss: 0.0781, Test Accuracy: 97.37%\n",
      "Epoch [2/10], Train Loss: 0.0706, Train Accuracy: 97.82%, Test Loss: 0.0520, Test Accuracy: 98.31%\n",
      "Epoch [3/10], Train Loss: 0.0501, Train Accuracy: 98.43%, Test Loss: 0.0639, Test Accuracy: 97.91%\n",
      "Epoch [4/10], Train Loss: 0.0386, Train Accuracy: 98.76%, Test Loss: 0.0454, Test Accuracy: 98.56%\n",
      "Epoch [5/10], Train Loss: 0.0314, Train Accuracy: 98.96%, Test Loss: 0.0470, Test Accuracy: 98.48%\n",
      "Epoch [6/10], Train Loss: 0.0248, Train Accuracy: 99.22%, Test Loss: 0.0486, Test Accuracy: 98.49%\n",
      "Epoch [7/10], Train Loss: 0.0193, Train Accuracy: 99.38%, Test Loss: 0.0479, Test Accuracy: 98.63%\n",
      "Epoch [8/10], Train Loss: 0.0162, Train Accuracy: 99.44%, Test Loss: 0.0496, Test Accuracy: 98.54%\n",
      "Epoch [9/10], Train Loss: 0.0154, Train Accuracy: 99.51%, Test Loss: 0.0494, Test Accuracy: 98.47%\n",
      "Epoch [10/10], Train Loss: 0.0111, Train Accuracy: 99.64%, Test Loss: 0.0466, Test Accuracy: 98.66%\n",
      "\n",
      "LeNet-5 with extra convolutional layer\n",
      "Epoch [1/10], Train Loss: 0.3638, Train Accuracy: 88.37%, Test Loss: 0.1154, Test Accuracy: 96.13%\n",
      "Epoch [2/10], Train Loss: 0.1069, Train Accuracy: 96.67%, Test Loss: 0.0837, Test Accuracy: 97.19%\n",
      "Epoch [3/10], Train Loss: 0.0769, Train Accuracy: 97.59%, Test Loss: 0.0585, Test Accuracy: 98.08%\n",
      "Epoch [4/10], Train Loss: 0.0623, Train Accuracy: 98.12%, Test Loss: 0.0579, Test Accuracy: 98.07%\n",
      "Epoch [5/10], Train Loss: 0.0520, Train Accuracy: 98.38%, Test Loss: 0.0546, Test Accuracy: 98.24%\n",
      "Epoch [6/10], Train Loss: 0.0447, Train Accuracy: 98.60%, Test Loss: 0.0465, Test Accuracy: 98.47%\n",
      "Epoch [7/10], Train Loss: 0.0390, Train Accuracy: 98.77%, Test Loss: 0.0577, Test Accuracy: 98.12%\n",
      "Epoch [8/10], Train Loss: 0.0351, Train Accuracy: 98.89%, Test Loss: 0.0455, Test Accuracy: 98.60%\n",
      "Epoch [9/10], Train Loss: 0.0316, Train Accuracy: 98.98%, Test Loss: 0.0455, Test Accuracy: 98.69%\n",
      "Epoch [10/10], Train Loss: 0.0288, Train Accuracy: 99.08%, Test Loss: 0.0478, Test Accuracy: 98.68%\n"
     ]
    }
   ],
   "source": [
    "# Function to train the model and compute accuracy\n",
    "def train_model(model, num_epochs=10):\n",
    "    model.to(device)\n",
    "    criterion = nn.CrossEntropyLoss()\n",
    "    optimizer = torch.optim.Adam(model.parameters(), lr=0.001)\n",
    "    \n",
    "    train_loss_list = []\n",
    "    test_loss_list = []\n",
    "    train_accuracy_list = []\n",
    "    test_accuracy_list = []\n",
    "    \n",
    "    for epoch in range(num_epochs):\n",
    "        model.train()\n",
    "        train_loss = 0\n",
    "        correct_train = 0\n",
    "        total_train = 0\n",
    "        \n",
    "        # Training loop\n",
    "        for images, labels in train_loader:\n",
    "            images, labels = images.to(device), labels.to(device)\n",
    "            outputs = model(images)\n",
    "            loss = criterion(outputs, labels)\n",
    "            optimizer.zero_grad()\n",
    "            loss.backward()\n",
    "            optimizer.step()\n",
    "            \n",
    "            # Track training loss\n",
    "            train_loss += loss.item()\n",
    "            \n",
    "            # Calculate the number of correct predictions for accuracy\n",
    "            _, predicted = torch.max(outputs.data, 1)\n",
    "            total_train += labels.size(0)\n",
    "            correct_train += (predicted == labels).sum().item()\n",
    "        \n",
    "        # Calculate average training loss and accuracy\n",
    "        train_loss_list.append(train_loss / len(train_loader))\n",
    "        train_accuracy_list.append(100 * correct_train / total_train)\n",
    "        \n",
    "        # Testing the model after each epoch\n",
    "        model.eval()\n",
    "        test_loss = 0\n",
    "        correct_test = 0\n",
    "        total_test = 0\n",
    "        \n",
    "        with torch.no_grad():\n",
    "            for images, labels in test_loader:\n",
    "                images, labels = images.to(device), labels.to(device)\n",
    "                outputs = model(images)\n",
    "                loss = criterion(outputs, labels)\n",
    "                \n",
    "                # Track test loss\n",
    "                test_loss += loss.item()\n",
    "                \n",
    "                # Calculate accuracy during testing\n",
    "                _, predicted = torch.max(outputs.data, 1)\n",
    "                total_test += labels.size(0)\n",
    "                correct_test += (predicted == labels).sum().item()\n",
    "        \n",
    "        # Calculate average test loss and accuracy\n",
    "        test_loss_list.append(test_loss / len(test_loader))\n",
    "        test_accuracy_list.append(100 * correct_test / total_test)\n",
    "        \n",
    "        # Print epoch results (optional)\n",
    "        print(f'Epoch [{epoch+1}/{num_epochs}], '\n",
    "              f'Train Loss: {train_loss_list[-1]:.4f}, '\n",
    "              f'Train Accuracy: {train_accuracy_list[-1]:.2f}%, '\n",
    "              f'Test Loss: {test_loss_list[-1]:.4f}, '\n",
    "              f'Test Accuracy: {test_accuracy_list[-1]:.2f}%')\n",
    "    \n",
    "    return train_loss_list, test_loss_list, train_accuracy_list, test_accuracy_list\n",
    "\n",
    "\n",
    "# Setting device (GPU or CPU)\n",
    "device = torch.device('cuda' if torch.cuda.is_available() else 'cpu')\n",
    "\n",
    "# Train the three models\n",
    "lenet5_model = LeNet5()\n",
    "lenet5_oneconv_model = LeNet5_OneConv()\n",
    "lenet5_extraconv_model = LeNet5_ExtraConv()\n",
    "\n",
    "# Now, let's train all the models and store the training and test loss for comparison\n",
    "# Entrenamiento de los modelos con cálculo de precisión\n",
    "print(\"LeNet-5\")\n",
    "train_loss_base, test_loss_base, train_acc_base, test_acc_base = train_model(lenet5_model)\n",
    "print(\"\\nLeNet-5 with one convolutional layer removed\")\n",
    "train_loss_oneconv, test_loss_oneconv, train_acc_oneconv, test_acc_oneconv = train_model(lenet5_oneconv_model)\n",
    "print(\"\\nLeNet-5 with extra convolutional layer\")\n",
    "train_loss_extraconv, test_loss_extraconv, train_acc_extraconv, test_acc_extraconv = train_model(lenet5_extraconv_model)"
   ]
  },
  {
   "cell_type": "code",
   "execution_count": 13,
   "metadata": {},
   "outputs": [
    {
     "data": {
      "image/png": "[encoded data removed]",
      "text/plain": [
       "<Figure size 1400x500 with 3 Axes>"
      ]
     },
     "metadata": {},
     "output_type": "display_data"
    }
   ],
   "source": [
    "fig, axs = plt.subplots(1, 3, figsize=(14, 5))  # Aquí, por ejemplo, 14 pulgadas de ancho y 10 de alto\n",
    "\n",
    "# LeNet-5 (primer subgráfico)\n",
    "axs[0].plot(train_loss_base, label='Train Loss', linestyle='--', marker='o', color='blue')\n",
    "axs[0].plot(test_loss_base, label='Test Loss', linestyle='-', marker='o', color='red')\n",
    "axs[0].set_title('Base LeNet-5', fontsize=15)\n",
    "axs[0].set_xlabel('Epochs', fontsize=14)\n",
    "axs[0].set_ylabel('Loss', fontsize=14)\n",
    "axs[0].legend(fontsize=12)\n",
    "axs[0].grid(True)\n",
    "\n",
    "# LeNet-5 con una capa conv removida (segundo subgráfico)\n",
    "axs[1].plot(train_loss_oneconv, label='Train Loss', linestyle='--', marker='o')\n",
    "axs[1].plot(test_loss_oneconv, label='Test Loss', linestyle='-', marker='o')\n",
    "axs[1].set_title('One Conv Layer Removed', fontsize=15)\n",
    "axs[1].set_xlabel('Epochs', fontsize=14)\n",
    "axs[1].set_ylabel('Loss', fontsize=14)\n",
    "axs[1].legend(fontsize=12)\n",
    "axs[1].grid(True)\n",
    "\n",
    "# LeNet-5 con una capa conv extra (tercer subgráfico)\n",
    "axs[2].plot(train_loss_extraconv, label='Extra Conv Layer Train Loss', linestyle='--', marker='s')\n",
    "axs[2].plot(test_loss_extraconv, label='Extra Conv Layer Test Loss', linestyle='-', marker='s')\n",
    "axs[2].set_title('Extra Conv Layer', fontsize=15)\n",
    "axs[1].set_xlabel('Epochs', fontsize=14)\n",
    "axs[1].set_ylabel('Loss', fontsize=14)\n",
    "axs[1].legend(fontsize=12)\n",
    "axs[1].grid(True)\n",
    "\n",
    "\n",
    "# Ajustar el diseño para evitar solapamientos\n",
    "plt.tight_layout()\n",
    "plt.show()"
   ]
  },
  {
   "cell_type": "code",
   "execution_count": 67,
   "metadata": {},
   "outputs": [
    {
     "name": "stdout",
     "output_type": "stream",
     "text": [
      "LeNet5(\n",
      "  (conv1): Conv2d(1, 6, kernel_size=(5, 5), stride=(1, 1))\n",
      "  (pool1): AvgPool2d(kernel_size=2, stride=2, padding=0)\n",
      "  (conv2): Conv2d(6, 16, kernel_size=(5, 5), stride=(1, 1))\n",
      "  (pool2): AvgPool2d(kernel_size=2, stride=2, padding=0)\n",
      "  (fc1): Linear(in_features=400, out_features=120, bias=True)\n",
      "  (fc2): Linear(in_features=120, out_features=84, bias=True)\n",
      "  (fc3): Linear(in_features=84, out_features=10, bias=True)\n",
      ")\n"
     ]
    }
   ],
   "source": [
    "\n",
    "class LeNet5(nn.Module):\n",
    "    def __init__(self):\n",
    "        super(LeNet5, self).__init__()\n",
    "        # C1: Convolutional Layer - Input: 1x32x32, Output: 6x28x28\n",
    "        self.conv1 = nn.Conv2d(in_channels=1, out_channels=6, kernel_size=5)\n",
    "        # S2: Subsampling (Average Pooling) Layer - Input: 6x28x28, Output: 6x14x14\n",
    "        self.pool1 = nn.AvgPool2d(kernel_size=2, stride=2)\n",
    "        # C3: Convolutional Layer - Input: 6x14x14, Output: 16x10x10\n",
    "        self.conv2 = nn.Conv2d(in_channels=6, out_channels=16, kernel_size=5)\n",
    "        # S4: Subsampling (Average Pooling) Layer - Input: 16x10x10, Output: 16x5x5\n",
    "        self.pool2 = nn.AvgPool2d(kernel_size=2, stride=2)\n",
    "        # C5: Fully Connected Convolutional Layer - Input: 16x5x5, Output: 120x1x1\n",
    "        self.fc1 = nn.Linear(in_features=16*5*5, out_features=120)\n",
    "        # F6: Fully Connected Layer - Input: 120, Output: 84\n",
    "        self.fc2 = nn.Linear(in_features=120, out_features=84)\n",
    "        # Output Layer - Input: 84, Output: 10\n",
    "        self.fc3 = nn.Linear(in_features=84, out_features=10)\n",
    "\n",
    "    def forward(self, x):\n",
    "        # C1 -> Sigmoid activation\n",
    "        x = torch.relu(self.conv1(x))\n",
    "        print(f\"After conv1: {x.shape}\")\n",
    "        # S2: Average Pooling\n",
    "        x = self.pool1(x)\n",
    "        print(f\"After pool1: {x.shape}\")\n",
    "        # C3 -> Sigmoid activation\n",
    "        x = torch.relu(self.conv2(x))\n",
    "        print(f\"After conv2: {x.shape}\")\n",
    "        # S4: Average Pooling\n",
    "        x = self.pool2(x)\n",
    "        print(f\"After pool2: {x.shape}\")\n",
    "        # Flatten the tensor for the fully connected layer\n",
    "        # x = x.view(-1, 16*5*5)\n",
    "        x = x.view(x.size(0), -1)\n",
    "        print(f\"After flattening: {x.shape}\")\n",
    "        # C5 \n",
    "        x = torch.relu(self.fc1(x))\n",
    "        # F6 \n",
    "        x = torch.relu(self.fc2(x))\n",
    "        # Output layer\n",
    "        x = self.fc3(x)\n",
    "        x = torch.softmax(x,dim=1)\n",
    "        \n",
    "        return x\n",
    "\n",
    "# Instantiate the model\n",
    "lenet5 = LeNet5()\n",
    "# Print the model summary\n",
    "print(lenet5)"
   ]
  },
  {
   "cell_type": "code",
   "execution_count": 68,
   "metadata": {},
   "outputs": [
    {
     "name": "stdout",
     "output_type": "stream",
     "text": [
      "After conv1: torch.Size([64, 6, 24, 24])\n",
      "After pool1: torch.Size([64, 6, 12, 12])\n",
      "After conv2: torch.Size([64, 16, 8, 8])\n",
      "After pool2: torch.Size([64, 16, 4, 4])\n",
      "After flattening: torch.Size([64, 256])\n"
     ]
    },
    {
     "ename": "RuntimeError",
     "evalue": "mat1 and mat2 shapes cannot be multiplied (64x256 and 400x120)",
     "output_type": "error",
     "traceback": [
      "\u001b[0;31m---------------------------------------------------------------------------\u001b[0m",
      "\u001b[0;31mRuntimeError\u001b[0m                              Traceback (most recent call last)",
      "Cell \u001b[0;32mIn[68], line 2\u001b[0m\n\u001b[1;32m      1\u001b[0m lenet5 \u001b[38;5;241m=\u001b[39m LeNet5()\n\u001b[0;32m----> 2\u001b[0m train_loss_extraconv, test_loss_extraconv, train_acc_extraconv, test_acc_extraconv \u001b[38;5;241m=\u001b[39m \u001b[43mtrain_model\u001b[49m\u001b[43m(\u001b[49m\u001b[43mlenet5\u001b[49m\u001b[43m)\u001b[49m\n",
      "Cell \u001b[0;32mIn[12], line 21\u001b[0m, in \u001b[0;36mtrain_model\u001b[0;34m(model, num_epochs)\u001b[0m\n\u001b[1;32m     19\u001b[0m \u001b[38;5;28;01mfor\u001b[39;00m images, labels \u001b[38;5;129;01min\u001b[39;00m train_loader:\n\u001b[1;32m     20\u001b[0m     images, labels \u001b[38;5;241m=\u001b[39m images\u001b[38;5;241m.\u001b[39mto(device), labels\u001b[38;5;241m.\u001b[39mto(device)\n\u001b[0;32m---> 21\u001b[0m     outputs \u001b[38;5;241m=\u001b[39m \u001b[43mmodel\u001b[49m\u001b[43m(\u001b[49m\u001b[43mimages\u001b[49m\u001b[43m)\u001b[49m\n\u001b[1;32m     22\u001b[0m     loss \u001b[38;5;241m=\u001b[39m criterion(outputs, labels)\n\u001b[1;32m     23\u001b[0m     optimizer\u001b[38;5;241m.\u001b[39mzero_grad()\n",
      "File \u001b[0;32m~/anaconda3/envs/py310/lib/python3.10/site-packages/torch/nn/modules/module.py:1553\u001b[0m, in \u001b[0;36mModule._wrapped_call_impl\u001b[0;34m(self, *args, **kwargs)\u001b[0m\n\u001b[1;32m   1551\u001b[0m     \u001b[38;5;28;01mreturn\u001b[39;00m \u001b[38;5;28mself\u001b[39m\u001b[38;5;241m.\u001b[39m_compiled_call_impl(\u001b[38;5;241m*\u001b[39margs, \u001b[38;5;241m*\u001b[39m\u001b[38;5;241m*\u001b[39mkwargs)  \u001b[38;5;66;03m# type: ignore[misc]\u001b[39;00m\n\u001b[1;32m   1552\u001b[0m \u001b[38;5;28;01melse\u001b[39;00m:\n\u001b[0;32m-> 1553\u001b[0m     \u001b[38;5;28;01mreturn\u001b[39;00m \u001b[38;5;28;43mself\u001b[39;49m\u001b[38;5;241;43m.\u001b[39;49m\u001b[43m_call_impl\u001b[49m\u001b[43m(\u001b[49m\u001b[38;5;241;43m*\u001b[39;49m\u001b[43margs\u001b[49m\u001b[43m,\u001b[49m\u001b[43m \u001b[49m\u001b[38;5;241;43m*\u001b[39;49m\u001b[38;5;241;43m*\u001b[39;49m\u001b[43mkwargs\u001b[49m\u001b[43m)\u001b[49m\n",
      "File \u001b[0;32m~/anaconda3/envs/py310/lib/python3.10/site-packages/torch/nn/modules/module.py:1562\u001b[0m, in \u001b[0;36mModule._call_impl\u001b[0;34m(self, *args, **kwargs)\u001b[0m\n\u001b[1;32m   1557\u001b[0m \u001b[38;5;66;03m# If we don't have any hooks, we want to skip the rest of the logic in\u001b[39;00m\n\u001b[1;32m   1558\u001b[0m \u001b[38;5;66;03m# this function, and just call forward.\u001b[39;00m\n\u001b[1;32m   1559\u001b[0m \u001b[38;5;28;01mif\u001b[39;00m \u001b[38;5;129;01mnot\u001b[39;00m (\u001b[38;5;28mself\u001b[39m\u001b[38;5;241m.\u001b[39m_backward_hooks \u001b[38;5;129;01mor\u001b[39;00m \u001b[38;5;28mself\u001b[39m\u001b[38;5;241m.\u001b[39m_backward_pre_hooks \u001b[38;5;129;01mor\u001b[39;00m \u001b[38;5;28mself\u001b[39m\u001b[38;5;241m.\u001b[39m_forward_hooks \u001b[38;5;129;01mor\u001b[39;00m \u001b[38;5;28mself\u001b[39m\u001b[38;5;241m.\u001b[39m_forward_pre_hooks\n\u001b[1;32m   1560\u001b[0m         \u001b[38;5;129;01mor\u001b[39;00m _global_backward_pre_hooks \u001b[38;5;129;01mor\u001b[39;00m _global_backward_hooks\n\u001b[1;32m   1561\u001b[0m         \u001b[38;5;129;01mor\u001b[39;00m _global_forward_hooks \u001b[38;5;129;01mor\u001b[39;00m _global_forward_pre_hooks):\n\u001b[0;32m-> 1562\u001b[0m     \u001b[38;5;28;01mreturn\u001b[39;00m \u001b[43mforward_call\u001b[49m\u001b[43m(\u001b[49m\u001b[38;5;241;43m*\u001b[39;49m\u001b[43margs\u001b[49m\u001b[43m,\u001b[49m\u001b[43m \u001b[49m\u001b[38;5;241;43m*\u001b[39;49m\u001b[38;5;241;43m*\u001b[39;49m\u001b[43mkwargs\u001b[49m\u001b[43m)\u001b[49m\n\u001b[1;32m   1564\u001b[0m \u001b[38;5;28;01mtry\u001b[39;00m:\n\u001b[1;32m   1565\u001b[0m     result \u001b[38;5;241m=\u001b[39m \u001b[38;5;28;01mNone\u001b[39;00m\n",
      "Cell \u001b[0;32mIn[67], line 37\u001b[0m, in \u001b[0;36mLeNet5.forward\u001b[0;34m(self, x)\u001b[0m\n\u001b[1;32m     35\u001b[0m \u001b[38;5;28mprint\u001b[39m(\u001b[38;5;124mf\u001b[39m\u001b[38;5;124m\"\u001b[39m\u001b[38;5;124mAfter flattening: \u001b[39m\u001b[38;5;132;01m{\u001b[39;00mx\u001b[38;5;241m.\u001b[39mshape\u001b[38;5;132;01m}\u001b[39;00m\u001b[38;5;124m\"\u001b[39m)\n\u001b[1;32m     36\u001b[0m \u001b[38;5;66;03m# C5 \u001b[39;00m\n\u001b[0;32m---> 37\u001b[0m x \u001b[38;5;241m=\u001b[39m torch\u001b[38;5;241m.\u001b[39mrelu(\u001b[38;5;28;43mself\u001b[39;49m\u001b[38;5;241;43m.\u001b[39;49m\u001b[43mfc1\u001b[49m\u001b[43m(\u001b[49m\u001b[43mx\u001b[49m\u001b[43m)\u001b[49m)\n\u001b[1;32m     38\u001b[0m \u001b[38;5;66;03m# F6 \u001b[39;00m\n\u001b[1;32m     39\u001b[0m x \u001b[38;5;241m=\u001b[39m torch\u001b[38;5;241m.\u001b[39mrelu(\u001b[38;5;28mself\u001b[39m\u001b[38;5;241m.\u001b[39mfc2(x))\n",
      "File \u001b[0;32m~/anaconda3/envs/py310/lib/python3.10/site-packages/torch/nn/modules/module.py:1553\u001b[0m, in \u001b[0;36mModule._wrapped_call_impl\u001b[0;34m(self, *args, **kwargs)\u001b[0m\n\u001b[1;32m   1551\u001b[0m     \u001b[38;5;28;01mreturn\u001b[39;00m \u001b[38;5;28mself\u001b[39m\u001b[38;5;241m.\u001b[39m_compiled_call_impl(\u001b[38;5;241m*\u001b[39margs, \u001b[38;5;241m*\u001b[39m\u001b[38;5;241m*\u001b[39mkwargs)  \u001b[38;5;66;03m# type: ignore[misc]\u001b[39;00m\n\u001b[1;32m   1552\u001b[0m \u001b[38;5;28;01melse\u001b[39;00m:\n\u001b[0;32m-> 1553\u001b[0m     \u001b[38;5;28;01mreturn\u001b[39;00m \u001b[38;5;28;43mself\u001b[39;49m\u001b[38;5;241;43m.\u001b[39;49m\u001b[43m_call_impl\u001b[49m\u001b[43m(\u001b[49m\u001b[38;5;241;43m*\u001b[39;49m\u001b[43margs\u001b[49m\u001b[43m,\u001b[49m\u001b[43m \u001b[49m\u001b[38;5;241;43m*\u001b[39;49m\u001b[38;5;241;43m*\u001b[39;49m\u001b[43mkwargs\u001b[49m\u001b[43m)\u001b[49m\n",
      "File \u001b[0;32m~/anaconda3/envs/py310/lib/python3.10/site-packages/torch/nn/modules/module.py:1562\u001b[0m, in \u001b[0;36mModule._call_impl\u001b[0;34m(self, *args, **kwargs)\u001b[0m\n\u001b[1;32m   1557\u001b[0m \u001b[38;5;66;03m# If we don't have any hooks, we want to skip the rest of the logic in\u001b[39;00m\n\u001b[1;32m   1558\u001b[0m \u001b[38;5;66;03m# this function, and just call forward.\u001b[39;00m\n\u001b[1;32m   1559\u001b[0m \u001b[38;5;28;01mif\u001b[39;00m \u001b[38;5;129;01mnot\u001b[39;00m (\u001b[38;5;28mself\u001b[39m\u001b[38;5;241m.\u001b[39m_backward_hooks \u001b[38;5;129;01mor\u001b[39;00m \u001b[38;5;28mself\u001b[39m\u001b[38;5;241m.\u001b[39m_backward_pre_hooks \u001b[38;5;129;01mor\u001b[39;00m \u001b[38;5;28mself\u001b[39m\u001b[38;5;241m.\u001b[39m_forward_hooks \u001b[38;5;129;01mor\u001b[39;00m \u001b[38;5;28mself\u001b[39m\u001b[38;5;241m.\u001b[39m_forward_pre_hooks\n\u001b[1;32m   1560\u001b[0m         \u001b[38;5;129;01mor\u001b[39;00m _global_backward_pre_hooks \u001b[38;5;129;01mor\u001b[39;00m _global_backward_hooks\n\u001b[1;32m   1561\u001b[0m         \u001b[38;5;129;01mor\u001b[39;00m _global_forward_hooks \u001b[38;5;129;01mor\u001b[39;00m _global_forward_pre_hooks):\n\u001b[0;32m-> 1562\u001b[0m     \u001b[38;5;28;01mreturn\u001b[39;00m \u001b[43mforward_call\u001b[49m\u001b[43m(\u001b[49m\u001b[38;5;241;43m*\u001b[39;49m\u001b[43margs\u001b[49m\u001b[43m,\u001b[49m\u001b[43m \u001b[49m\u001b[38;5;241;43m*\u001b[39;49m\u001b[38;5;241;43m*\u001b[39;49m\u001b[43mkwargs\u001b[49m\u001b[43m)\u001b[49m\n\u001b[1;32m   1564\u001b[0m \u001b[38;5;28;01mtry\u001b[39;00m:\n\u001b[1;32m   1565\u001b[0m     result \u001b[38;5;241m=\u001b[39m \u001b[38;5;28;01mNone\u001b[39;00m\n",
      "File \u001b[0;32m~/anaconda3/envs/py310/lib/python3.10/site-packages/torch/nn/modules/linear.py:117\u001b[0m, in \u001b[0;36mLinear.forward\u001b[0;34m(self, input)\u001b[0m\n\u001b[1;32m    116\u001b[0m \u001b[38;5;28;01mdef\u001b[39;00m \u001b[38;5;21mforward\u001b[39m(\u001b[38;5;28mself\u001b[39m, \u001b[38;5;28minput\u001b[39m: Tensor) \u001b[38;5;241m-\u001b[39m\u001b[38;5;241m>\u001b[39m Tensor:\n\u001b[0;32m--> 117\u001b[0m     \u001b[38;5;28;01mreturn\u001b[39;00m \u001b[43mF\u001b[49m\u001b[38;5;241;43m.\u001b[39;49m\u001b[43mlinear\u001b[49m\u001b[43m(\u001b[49m\u001b[38;5;28;43minput\u001b[39;49m\u001b[43m,\u001b[49m\u001b[43m \u001b[49m\u001b[38;5;28;43mself\u001b[39;49m\u001b[38;5;241;43m.\u001b[39;49m\u001b[43mweight\u001b[49m\u001b[43m,\u001b[49m\u001b[43m \u001b[49m\u001b[38;5;28;43mself\u001b[39;49m\u001b[38;5;241;43m.\u001b[39;49m\u001b[43mbias\u001b[49m\u001b[43m)\u001b[49m\n",
      "\u001b[0;31mRuntimeError\u001b[0m: mat1 and mat2 shapes cannot be multiplied (64x256 and 400x120)"
     ]
    }
   ],
   "source": [
    "\n",
    "lenet5 = LeNet5()\n",
    "train_loss_extraconv, test_loss_extraconv, train_acc_extraconv, test_acc_extraconv = train_model(lenet5)"
   ]
  },
  {
   "cell_type": "code",
   "execution_count": null,
   "metadata": {},
   "outputs": [],
   "source": [
    "plt.figure(figsize=(5, 5))\n",
    "\n",
    "plt.plot(train_loss_extraconv, label='Extra Conv Layer Train Loss', linestyle='--', marker='s')\n",
    "plt.plot(test_loss_extraconv, label='Extra Conv Layer Test Loss', linestyle='-', marker='s')\n",
    "plt.set_title('Extra Conv Layer', fontsize=15)\n",
    "plt.set_xlabel('Epochs', fontsize=14)\n",
    "plt.set_ylabel('Loss', fontsize=14)\n",
    "plt.legend(fontsize=12)\n",
    "plt.grid(True)\n",
    "\n",
    "\n",
    "# Ajustar el diseño para evitar solapamientos\n",
    "plt.tight_layout()\n",
    "plt.show()"
   ]
  }
 ],
 "metadata": {
  "kernelspec": {
   "display_name": "py310",
   "language": "python",
   "name": "python3"
  },
  "language_info": {
   "codemirror_mode": {
    "name": "ipython",
    "version": 3
   },
   "file_extension": ".py",
   "mimetype": "text/x-python",
   "name": "python",
   "nbconvert_exporter": "python",
   "pygments_lexer": "ipython3",
   "version": "3.10.14"
  }
 },
 "nbformat": 4,
 "nbformat_minor": 2
}
